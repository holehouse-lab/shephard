{
 "cells": [
  {
   "cell_type": "markdown",
   "id": "cc6d9c08",
   "metadata": {},
   "source": [
    "## Demo notebook for ECOD DomainMapper analysis\n",
    "###### Last updated 2022-12-01\n",
    "This notebook offers a simple example of an analysis accessible using ECOD DomainMapper domains. Note here we're simply demonstrating some design patterns and identifying the set of proteins with three or more RRMs (RNA recognition motifs) that lack any other identified ECOD domains."
   ]
  },
  {
   "cell_type": "code",
   "execution_count": 1,
   "id": "c32a837c",
   "metadata": {},
   "outputs": [],
   "source": [
    "from shephard import interfaces\n",
    "from shephard.apis import uniprot"
   ]
  },
  {
   "cell_type": "code",
   "execution_count": 2,
   "id": "73a4d242",
   "metadata": {},
   "outputs": [],
   "source": [
    "# set this to the local location of the directory associated\n",
    "# with https://github.com/holehouse-lab/shephard-data/tree/main/data/proteomes/human\n",
    "data_directory = 'MUST_BE_UPDATED'\n",
    "\n",
    "\n",
    "# this defines the local locations \n",
    "proteome_file = f'{data_directory}/human_proteome_clean.fasta'\n",
    "domain_file   = f'{data_directory}/shprd_domains_ecod_domainmapper.tsv'\n",
    "IDR_file   = f'{data_directory}/shprd_domains_idrs.tsv'\n",
    "\n",
    "\n"
   ]
  },
  {
   "cell_type": "code",
   "execution_count": 3,
   "id": "0dd798ef",
   "metadata": {},
   "outputs": [],
   "source": [
    "# read human proteome into a SHEPHARD proteome and annotate with\n",
    "# the ECOD-DomainMapper domains\n",
    "human_proteome = uniprot.uniprot_fasta_to_proteome(proteome_file)\n",
    "interfaces.si_domains.add_domains_from_file(human_proteome, domain_file)\n",
    "interfaces.si_domains.add_domains_from_file(human_proteome, IDR_file)"
   ]
  },
  {
   "cell_type": "code",
   "execution_count": 4,
   "id": "c9901f0a",
   "metadata": {},
   "outputs": [
    {
     "name": "stdout",
     "output_type": "stream",
     "text": [
      "There are 4798 distinct domain types in the human proteome\n"
     ]
    }
   ],
   "source": [
    "# first some exploration - how many unique domain types do we have in the human proteom?\n",
    "all_domain_types = {}\n",
    "for protein in human_proteome:\n",
    "    for domain in protein.domains:\n",
    "        \n",
    "        # filter for DomainMapper domains\n",
    "        if domain.attribute('from_domain_mapper', safe=False) == 'True':\n",
    "            \n",
    "            name = domain.attribute('domain_type')\n",
    "            if name not in all_domain_types:\n",
    "                all_domain_types[name] = 0\n",
    "            all_domain_types[name] = all_domain_types[name] + 1\n",
    "            \n",
    "print(f'There are {len(all_domain_types)} distinct domain types in the human proteome')"
   ]
  },
  {
   "cell_type": "code",
   "execution_count": 5,
   "id": "41f76f48",
   "metadata": {},
   "outputs": [
    {
     "name": "stdout",
     "output_type": "stream",
     "text": [
      "List of RRM-associated names:\n",
      "['RRM_1_like', 'RRM_1_6', 'RRM_1_4', 'RRM_1_5', 'RRM_1_1', 'RRM_1', 'RRM_1_3', 'RRM_1_2', 'RRM_1_9', 'RRM_1_7', 'RRM_1_8', 'RRM_4', 'RRM_3', 'RRM_1_like_1', 'Nup35_RRM']\n"
     ]
    }
   ],
   "source": [
    "# get the domain types that are RRM-associated \n",
    "rrm_domain_names = []\n",
    "for name in all_domain_types:\n",
    "    if name.lower().find('rrm') > -1:\n",
    "        rrm_domain_names.append(name)\n",
    "print('List of RRM-associated names:')\n",
    "print(rrm_domain_names)        "
   ]
  },
  {
   "cell_type": "code",
   "execution_count": 10,
   "id": "718daf9f",
   "metadata": {},
   "outputs": [
    {
     "name": "stdout",
     "output_type": "stream",
     "text": [
      "There are 236 RRM-containing proteins in the human proteome\n"
     ]
    }
   ],
   "source": [
    "# find the UniProt accessions for proteins with one or more RRM\n",
    "RRM_UIDs = set([])\n",
    "\n",
    "for protein in human_proteome:\n",
    "    for domain in protein.domains:\n",
    "        \n",
    "        # filter for DomainMapper domains\n",
    "        if domain.attribute('from_domain_mapper', safe=False) == 'True':\n",
    "            if domain.attribute('domain_type') in rrm_domain_names:\n",
    "                RRM_UIDs.add(domain.protein.unique_ID)\n",
    "                \n",
    "print(f'There are {len(RRM_UIDs)} RRM-containing proteins in the human proteome')"
   ]
  },
  {
   "cell_type": "code",
   "execution_count": 8,
   "id": "df7203d2",
   "metadata": {},
   "outputs": [],
   "source": [
    "# for those proteins count the number of RRMs and the identity of the non-RRM domains \n",
    "# in a convenient format case we're interested in that ...\n",
    "for uid in RRM_UIDs:\n",
    "    \n",
    "    protein = human_proteome.protein(uid)\n",
    "    n_rrms = 0\n",
    "    non_rrm_domains = []\n",
    "    for domain in protein.domains:\n",
    "        \n",
    "        \n",
    "        if domain.attribute('from_domain_mapper', safe=False) == 'True':\n",
    "            if domain.attribute('domain_type') in rrm_domain_names:\n",
    "                n_rrms = n_rrms + 1\n",
    "            else:\n",
    "                non_rrm_domains.append(f\"{domain.attribute('domain_type')}-{domain.attribute('ECOD_T_group')}\")\n",
    "                \n",
    "    # note we create some new protein-wide annotations here             \n",
    "    protein.add_attribute('n_rrms',n_rrms, safe=False)\n",
    "    protein.add_attribute('non_rrm_domains',non_rrm_domains, safe=False)\n",
    "        \n",
    "    \n",
    "    \n",
    "    "
   ]
  },
  {
   "cell_type": "code",
   "execution_count": 9,
   "id": "1531e70f",
   "metadata": {},
   "outputs": [
    {
     "name": "stdout",
     "output_type": "stream",
     "text": [
      "sp|Q8IXT5|RB12B_HUMAN RNA-binding protein 12B OS=Homo sapiens OX=9606 GN=RBM12B PE=1 SV=2\n",
      "sp|Q9Y4C8|RBM19_HUMAN Probable RNA-binding protein 19 OS=Homo sapiens OX=9606 GN=RBM19 PE=1 SV=3\n",
      "sp|Q5SZQ8|CELF3_HUMAN CUGBP Elav-like family member 3 OS=Homo sapiens OX=9606 GN=CELF3 PE=1 SV=1\n",
      "sp|P26599|PTBP1_HUMAN Polypyrimidine tract-binding protein 1 OS=Homo sapiens OX=9606 GN=PTBP1 PE=1 SV=1\n",
      "sp|Q8TBY0|RBM46_HUMAN Probable RNA-binding protein 46 OS=Homo sapiens OX=9606 GN=RBM46 PE=1 SV=1\n",
      "sp|Q01085|TIAR_HUMAN Nucleolysin TIAR OS=Homo sapiens OX=9606 GN=TIAL1 PE=1 SV=1\n",
      "sp|O95319|CELF2_HUMAN CUGBP Elav-like family member 2 OS=Homo sapiens OX=9606 GN=CELF2 PE=1 SV=1\n",
      "sp|Q9UKA9|PTBP2_HUMAN Polypyrimidine tract-binding protein 2 OS=Homo sapiens OX=9606 GN=PTBP2 PE=1 SV=1\n",
      "sp|Q96DU9|PABP5_HUMAN Polyadenylate-binding protein 5 OS=Homo sapiens OX=9606 GN=PABPC5 PE=1 SV=1\n",
      "sp|Q8IUH3|RBM45_HUMAN RNA-binding protein 45 OS=Homo sapiens OX=9606 GN=RBM45 PE=1 SV=1\n",
      "sp|Q14576|ELAV3_HUMAN ELAV-like protein 3 OS=Homo sapiens OX=9606 GN=ELAVL3 PE=2 SV=3\n",
      "sp|Q9NTZ6|RBM12_HUMAN RNA-binding protein 12 OS=Homo sapiens OX=9606 GN=RBM12 PE=1 SV=1\n",
      "sp|Q12926|ELAV2_HUMAN ELAV-like protein 2 OS=Homo sapiens OX=9606 GN=ELAVL2 PE=1 SV=2\n",
      "sp|Q9HCJ3|RAVR2_HUMAN Ribonucleoprotein PTB-binding 2 OS=Homo sapiens OX=9606 GN=RAVER2 PE=1 SV=2\n",
      "sp|P26368|U2AF2_HUMAN Splicing factor U2AF 65 kDa subunit OS=Homo sapiens OX=9606 GN=U2AF2 PE=1 SV=4\n",
      "sp|Q9UHX1|PUF60_HUMAN Poly(U)-binding-splicing factor PUF60 OS=Homo sapiens OX=9606 GN=PUF60 PE=1 SV=1\n",
      "sp|P14866|HNRPL_HUMAN Heterogeneous nuclear ribonucleoprotein L OS=Homo sapiens OX=9606 GN=HNRNPL PE=1 SV=2\n",
      "sp|P55795|HNRH2_HUMAN Heterogeneous nuclear ribonucleoprotein H2 OS=Homo sapiens OX=9606 GN=HNRNPH2 PE=1 SV=1\n",
      "sp|P19338|NUCL_HUMAN Nucleolin OS=Homo sapiens OX=9606 GN=NCL PE=1 SV=3\n",
      "sp|Q9P2K5|MYEF2_HUMAN Myelin expression factor 2 OS=Homo sapiens OX=9606 GN=MYEF2 PE=1 SV=3\n",
      "sp|Q12849|GRSF1_HUMAN G-rich sequence factor 1 OS=Homo sapiens OX=9606 GN=GRSF1 PE=1 SV=3\n",
      "sp|O95758|PTBP3_HUMAN Polypyrimidine tract-binding protein 3 OS=Homo sapiens OX=9606 GN=PTBP3 PE=1 SV=2\n",
      "sp|P31943|HNRH1_HUMAN Heterogeneous nuclear ribonucleoprotein H OS=Homo sapiens OX=9606 GN=HNRNPH1 PE=1 SV=4\n",
      "sp|P31483|TIA1_HUMAN Nucleolysin TIA-1 isoform p40 OS=Homo sapiens OX=9606 GN=TIA1 PE=1 SV=3\n",
      "sp|Q8N6W0|CELF5_HUMAN CUGBP Elav-like family member 5 OS=Homo sapiens OX=9606 GN=CELF5 PE=1 SV=1\n",
      "sp|Q8WVV9|HNRLL_HUMAN Heterogeneous nuclear ribonucleoprotein L-like OS=Homo sapiens OX=9606 GN=HNRNPLL PE=1 SV=1\n",
      "sp|A0AV96|RBM47_HUMAN RNA-binding protein 47 OS=Homo sapiens OX=9606 GN=RBM47 PE=1 SV=2\n",
      "sp|Q14498|RBM39_HUMAN RNA-binding protein 39 OS=Homo sapiens OX=9606 GN=RBM39 PE=1 SV=2\n",
      "sp|P52272|HNRPM_HUMAN Heterogeneous nuclear ribonucleoprotein M OS=Homo sapiens OX=9606 GN=HNRNPM PE=1 SV=3\n",
      "sp|P26378|ELAV4_HUMAN ELAV-like protein 4 OS=Homo sapiens OX=9606 GN=ELAVL4 PE=1 SV=3\n",
      "sp|Q15717|ELAV1_HUMAN ELAV-like protein 1 OS=Homo sapiens OX=9606 GN=ELAVL1 PE=1 SV=2\n",
      "sp|Q9NW13|RBM28_HUMAN RNA-binding protein 28 OS=Homo sapiens OX=9606 GN=RBM28 PE=1 SV=3\n",
      "sp|Q9NQZ3|DAZ1_HUMAN Deleted in azoospermia protein 1 OS=Homo sapiens OX=9606 GN=DAZ1 PE=1 SV=2\n",
      "sp|P0CB38|PAB4L_HUMAN Polyadenylate-binding protein 4-like OS=Homo sapiens OX=9606 GN=PABPC4L PE=2 SV=1\n",
      "sp|Q9NQ94|A1CF_HUMAN APOBEC1 complementation factor OS=Homo sapiens OX=9606 GN=A1CF PE=1 SV=1\n",
      "sp|P52597|HNRPF_HUMAN Heterogeneous nuclear ribonucleoprotein F OS=Homo sapiens OX=9606 GN=HNRNPF PE=1 SV=3\n",
      "sp|Q9BZC1|CELF4_HUMAN CUGBP Elav-like family member 4 OS=Homo sapiens OX=9606 GN=CELF4 PE=1 SV=1\n",
      "sp|Q8IY67|RAVR1_HUMAN Ribonucleoprotein PTB-binding 1 OS=Homo sapiens OX=9606 GN=RAVER1 PE=1 SV=1\n",
      "sp|Q96J87|CELF6_HUMAN CUGBP Elav-like family member 6 OS=Homo sapiens OX=9606 GN=CELF6 PE=1 SV=1\n"
     ]
    }
   ],
   "source": [
    "# finally, print names of proteins that posses 3 or more RRMs and no other annotated domains\n",
    "# - these are inherently multivalent RNA binders and we would predict are likely associated \n",
    "# with biomolecular condensates if present at sufficient copy number\n",
    "multivalent_RRM_proteins = []\n",
    "for uid in RRM_UIDs:\n",
    "    \n",
    "    protein = human_proteome.protein(uid)\n",
    "    if protein.attribute('n_rrms') > 2:\n",
    "        if len(protein.attribute('non_rrm_domains')) == 0:\n",
    "            multivalent_RRM_proteins.append(protein)\n",
    "            print(protein.name)\n",
    "            \n"
   ]
  }
 ],
 "metadata": {
  "kernelspec": {
   "display_name": "Python 3 (ipykernel)",
   "language": "python",
   "name": "python3"
  },
  "language_info": {
   "codemirror_mode": {
    "name": "ipython",
    "version": 3
   },
   "file_extension": ".py",
   "mimetype": "text/x-python",
   "name": "python",
   "nbconvert_exporter": "python",
   "pygments_lexer": "ipython3",
   "version": "3.8.12"
  }
 },
 "nbformat": 4,
 "nbformat_minor": 5
}
