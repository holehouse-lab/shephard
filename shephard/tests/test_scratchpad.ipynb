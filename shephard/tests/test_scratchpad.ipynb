{
 "cells": [
  {
   "cell_type": "code",
   "execution_count": 13,
   "id": "280c1cac",
   "metadata": {},
   "outputs": [],
   "source": [
    "import shephard\n",
    "from shephard.apis import uniprot\n",
    "from shephard import interfaces\n",
    "from shephard.tools import domain_tools"
   ]
  },
  {
   "cell_type": "code",
   "execution_count": 2,
   "id": "26b98f98",
   "metadata": {},
   "outputs": [],
   "source": [
    "test_data_dir = shephard.get_data('test_data')\n",
    "fasta_file = '%s/%s' % (test_data_dir, 'testset_1.fasta')\n",
    "domain_file = '%s/%s' % (test_data_dir, 'TS1_domains_idr.tsv')\n",
    "\n",
    "P = uniprot.uniprot_fasta_to_proteome(fasta_file)\n",
    "interfaces.si_domains.add_domains_from_file(P, domain_file)\n"
   ]
  },
  {
   "cell_type": "code",
   "execution_count": 4,
   "id": "1d5d4081",
   "metadata": {},
   "outputs": [],
   "source": [
    "P.add_protein('A'*100,'test','test')\n",
    "pro"
   ]
  },
  {
   "cell_type": "code",
   "execution_count": 8,
   "id": "32ac24a8",
   "metadata": {},
   "outputs": [
    {
     "ename": "ProteinException",
     "evalue": "Domain [test_domain_1_20] already found in proteins test",
     "output_type": "error",
     "traceback": [
      "\u001b[0;31m---------------------------------------------------------------------------\u001b[0m",
      "\u001b[0;31mProteinException\u001b[0m                          Traceback (most recent call last)",
      "Input \u001b[0;32mIn [8]\u001b[0m, in \u001b[0;36m<cell line: 1>\u001b[0;34m()\u001b[0m\n\u001b[0;32m----> 1\u001b[0m \u001b[43mP\u001b[49m\u001b[38;5;241;43m.\u001b[39;49m\u001b[43mprotein\u001b[49m\u001b[43m(\u001b[49m\u001b[38;5;124;43m'\u001b[39;49m\u001b[38;5;124;43mtest\u001b[39;49m\u001b[38;5;124;43m'\u001b[39;49m\u001b[43m)\u001b[49m\u001b[38;5;241;43m.\u001b[39;49m\u001b[43madd_domain\u001b[49m\u001b[43m(\u001b[49m\u001b[38;5;241;43m1\u001b[39;49m\u001b[43m,\u001b[49m\u001b[38;5;241;43m20\u001b[39;49m\u001b[43m,\u001b[49m\u001b[43m \u001b[49m\u001b[38;5;124;43m'\u001b[39;49m\u001b[38;5;124;43mtest_domain\u001b[39;49m\u001b[38;5;124;43m'\u001b[39;49m\u001b[43m)\u001b[49m\n\u001b[1;32m      2\u001b[0m P\u001b[38;5;241m.\u001b[39mprotein(\u001b[38;5;124m'\u001b[39m\u001b[38;5;124mtest\u001b[39m\u001b[38;5;124m'\u001b[39m)\u001b[38;5;241m.\u001b[39madd_domain(\u001b[38;5;241m5\u001b[39m,\u001b[38;5;241m15\u001b[39m, \u001b[38;5;124m'\u001b[39m\u001b[38;5;124mtest_domain\u001b[39m\u001b[38;5;124m'\u001b[39m)\n",
      "File \u001b[0;32m~/Dropbox/WASHU/Holehouse/tools/shephard/shephard/shephard/protein.py:1582\u001b[0m, in \u001b[0;36mProtein.add_domain\u001b[0;34m(self, start, end, domain_type, attributes, safe, autoname)\u001b[0m\n\u001b[1;32m   1580\u001b[0m         full_name \u001b[38;5;241m=\u001b[39m newname\n\u001b[1;32m   1581\u001b[0m     \u001b[38;5;28;01melif\u001b[39;00m safe:\n\u001b[0;32m-> 1582\u001b[0m         \u001b[38;5;28;01mraise\u001b[39;00m exceptions\u001b[38;5;241m.\u001b[39mProteinException(\u001b[38;5;124m'\u001b[39m\u001b[38;5;124mDomain [\u001b[39m\u001b[38;5;132;01m%s\u001b[39;00m\u001b[38;5;124m] already found in proteins \u001b[39m\u001b[38;5;132;01m%s\u001b[39;00m\u001b[38;5;124m'\u001b[39m \u001b[38;5;241m%\u001b[39m (full_name, \u001b[38;5;28mself\u001b[39m\u001b[38;5;241m.\u001b[39mname))\n\u001b[1;32m   1584\u001b[0m \u001b[38;5;28mself\u001b[39m\u001b[38;5;241m.\u001b[39m_domains[full_name] \u001b[38;5;241m=\u001b[39m Domain(start, end, \u001b[38;5;28mself\u001b[39m, domain_type, full_name, attributes\u001b[38;5;241m=\u001b[39mattributes)\n",
      "\u001b[0;31mProteinException\u001b[0m: Domain [test_domain_1_20] already found in proteins test"
     ]
    }
   ],
   "source": [
    "P.protein('test').add_domain(1,20, 'test_domain')\n"
   ]
  },
  {
   "cell_type": "code",
   "execution_count": 9,
   "id": "a2291844",
   "metadata": {},
   "outputs": [],
   "source": [
    "P.protein('test').add_domain(5,15, 'test_domain')"
   ]
  },
  {
   "cell_type": "code",
   "execution_count": 10,
   "id": "fd6277da",
   "metadata": {},
   "outputs": [],
   "source": [
    "P.protein('test').add_domain(15,25, 'test_domain')"
   ]
  },
  {
   "cell_type": "code",
   "execution_count": 17,
   "id": "459dd03f",
   "metadata": {},
   "outputs": [],
   "source": [
    "assert domain_tools.domain_overlap(P.protein('test').domains[0], P.protein('test').domains[1]) is True\n",
    "assert domain_tools.domain_overlap(P.protein('test').domains[0], P.protein('test').domains[2]) is True\n",
    "assert domain_tools.domain_overlap(P.protein('test').domains[1], P.protein('test').domains[2]) is True"
   ]
  },
  {
   "cell_type": "code",
   "execution_count": 19,
   "id": "4c524bb4",
   "metadata": {},
   "outputs": [],
   "source": [
    "p=P.protein('test')"
   ]
  },
  {
   "cell_type": "code",
   "execution_count": 20,
   "id": "d9362745",
   "metadata": {},
   "outputs": [
    {
     "data": {
      "text/plain": [
       "[]"
      ]
     },
     "execution_count": 20,
     "metadata": {},
     "output_type": "execute_result"
    }
   ],
   "source": [
    "p.get_domains_by_type('test')"
   ]
  },
  {
   "cell_type": "code",
   "execution_count": null,
   "id": "2b229e96",
   "metadata": {},
   "outputs": [],
   "source": []
  }
 ],
 "metadata": {
  "kernelspec": {
   "display_name": "Python 3 (ipykernel)",
   "language": "python",
   "name": "python3"
  },
  "language_info": {
   "codemirror_mode": {
    "name": "ipython",
    "version": 3
   },
   "file_extension": ".py",
   "mimetype": "text/x-python",
   "name": "python",
   "nbconvert_exporter": "python",
   "pygments_lexer": "ipython3",
   "version": "3.8.12"
  }
 },
 "nbformat": 4,
 "nbformat_minor": 5
}
