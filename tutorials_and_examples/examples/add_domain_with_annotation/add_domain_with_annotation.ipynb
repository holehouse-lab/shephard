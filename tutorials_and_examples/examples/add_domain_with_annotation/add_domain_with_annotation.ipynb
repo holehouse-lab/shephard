{
 "cells": [
  {
   "cell_type": "markdown",
   "id": "c8f80201",
   "metadata": {},
   "source": [
    "# Example: Add domain with annotation\n",
    "*Last updated 2022-06-07*\n",
    "\n",
    "This short notebook walks through how one could add a custom domain to a protein of interest and annotate that domain with a specific attribute"
   ]
  },
  {
   "cell_type": "code",
   "execution_count": 1,
   "id": "935c00ff",
   "metadata": {},
   "outputs": [],
   "source": [
    "from shephard.apis import uniprot"
   ]
  },
  {
   "cell_type": "code",
   "execution_count": 2,
   "id": "6c56a8c7",
   "metadata": {},
   "outputs": [],
   "source": [
    "# because the FASTA file here was obtaine from uniprot we can use the uniprot API\n",
    "test_proteome = uniprot.uniprot_fasta_to_proteome('seqs.fasta')"
   ]
  },
  {
   "cell_type": "code",
   "execution_count": 3,
   "id": "fe1d9b2a",
   "metadata": {},
   "outputs": [],
   "source": [
    "# Here were just defining some custom test information that we're going to use\n",
    "id_of_interest = 'P41956'\n",
    "\n",
    "start = 1\n",
    "end = 30\n",
    "domain_type = 'test_domain'\n",
    "\n",
    "\n",
    "protein_obj = test_proteome.protein(id_of_interest)"
   ]
  },
  {
   "cell_type": "code",
   "execution_count": 4,
   "id": "ed03dcc6",
   "metadata": {},
   "outputs": [],
   "source": [
    "# add a domain with attributes\n",
    "protein_obj.add_domain(start,end, domain_type, attributes={'domain_color':'brown','domain_score':20})"
   ]
  },
  {
   "cell_type": "code",
   "execution_count": 6,
   "id": "8f06f20c",
   "metadata": {},
   "outputs": [
    {
     "name": "stdout",
     "output_type": "stream",
     "text": [
      "key = domain_color, value=brown \n",
      "key = domain_score, value=20 \n"
     ]
    }
   ],
   "source": [
    "# for each domain in the protein\n",
    "for domain in protein_obj.domains:\n",
    "    \n",
    "    # for each attribute name in the domain attributes\n",
    "    for attribute_name in domain.attributes:\n",
    "        print(f\"key = {attribute_name}, value={domain.attribute(attribute_name)} \")"
   ]
  }
 ],
 "metadata": {
  "kernelspec": {
   "display_name": "Python 3 (ipykernel)",
   "language": "python",
   "name": "python3"
  },
  "language_info": {
   "codemirror_mode": {
    "name": "ipython",
    "version": 3
   },
   "file_extension": ".py",
   "mimetype": "text/x-python",
   "name": "python",
   "nbconvert_exporter": "python",
   "pygments_lexer": "ipython3",
   "version": "3.8.12"
  }
 },
 "nbformat": 4,
 "nbformat_minor": 5
}
