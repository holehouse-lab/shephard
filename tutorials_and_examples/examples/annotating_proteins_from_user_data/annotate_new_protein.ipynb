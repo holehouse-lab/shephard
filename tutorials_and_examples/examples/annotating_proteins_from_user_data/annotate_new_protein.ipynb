{
 "cells": [
  {
   "cell_type": "markdown",
   "id": "e41d4e64",
   "metadata": {},
   "source": [
    "## Annotate new protein \n",
    "This example shows how you can create annotations from existing data, annotate a protein in a proteome, and then save those annotations for future analus "
   ]
  },
  {
   "cell_type": "code",
   "execution_count": 28,
   "id": "d3bb42bb",
   "metadata": {},
   "outputs": [],
   "source": [
    "from shephard.apis import fasta\n",
    "from shephard import interfaces"
   ]
  },
  {
   "cell_type": "code",
   "execution_count": 30,
   "id": "4d728e01",
   "metadata": {},
   "outputs": [],
   "source": [
    "local_proteome = fasta.fasta_to_proteome('seqs.fasta',use_header_as_unique_ID=True)"
   ]
  },
  {
   "cell_type": "code",
   "execution_count": 31,
   "id": "d4c98499",
   "metadata": {},
   "outputs": [],
   "source": [
    "## Phosphosite data from MS experiment. The dictionary below is a simple example of defining some\n",
    "# synthetic phosphosites that map to serine residues in the three proteins below. However, it obviously\n",
    "# does not matter how exactly phosphosite data is provided as long as you have a way to relate phosphosite position\n",
    "# to the protein ID\n",
    "synthetic_psite_data = {}\n",
    "synthetic_psite_data['P41956'] = [16, 107, 154]\n",
    "synthetic_psite_data['P12532'] = [161, 162, 169, 25]\n",
    "synthetic_psite_data['Q924S5'] = [443, 363, 503]\n"
   ]
  },
  {
   "cell_type": "code",
   "execution_count": 33,
   "id": "0d773847",
   "metadata": {},
   "outputs": [],
   "source": [
    "for idx in synthetic_psite_data:\n",
    "    protein = local_proteome.protein(idx)\n",
    "    \n",
    "    # cycle over each position\n",
    "    for pos in synthetic_psite_data[idx]:\n",
    "        \n",
    "        # symbol is added to confer what type of residue we're adding to, but is not\n",
    "        # required\n",
    "        #\n",
    "        # We also add an attributes dictionary with a 'source' attribute and information on where the site came from \n",
    "        protein.add_site(pos, 'phosphosite', symbol='S', attributes={'source':'Phosphosite obtained from synthetic data'})\n"
   ]
  },
  {
   "cell_type": "code",
   "execution_count": 35,
   "id": "18336039",
   "metadata": {},
   "outputs": [],
   "source": [
    "\n",
    "# finally, save these phosphosites, and these can now be easily shared with other people for\n",
    "# future analysis\n",
    "interfaces.si_sites.write_sites(local_proteome, 'shprd_sites_phosphosite.tsv')\n"
   ]
  },
  {
   "cell_type": "code",
   "execution_count": 39,
   "id": "bd34901e",
   "metadata": {},
   "outputs": [
    {
     "name": "stdout",
     "output_type": "stream",
     "text": [
      "No site annotations to protein Q924S5 yet!\n",
      "[|Site: phosphosite @ 443 in protein Q924S5, |Site: phosphosite @ 363 in protein Q924S5, |Site: phosphosite @ 503 in protein Q924S5]\n"
     ]
    }
   ],
   "source": [
    "# finally, show how the site file can be read into a NEW proteome object\n",
    "new_proteome = fasta.fasta_to_proteome('seqs.fasta',use_header_as_unique_ID=True)\n",
    "\n",
    "if len(new_proteome.protein('Q924S5').sites) == 0:\n",
    "    print('No site annotations to protein Q924S5 yet!')\n",
    "\n",
    "interfaces.si_sites.add_sites_from_file(new_proteome,'shprd_sites_phosphosite.tsv')\n",
    "\n",
    "print(new_proteome.protein('Q924S5').sites)"
   ]
  }
 ],
 "metadata": {
  "kernelspec": {
   "display_name": "Python 3 (ipykernel)",
   "language": "python",
   "name": "python3"
  },
  "language_info": {
   "codemirror_mode": {
    "name": "ipython",
    "version": 3
   },
   "file_extension": ".py",
   "mimetype": "text/x-python",
   "name": "python",
   "nbconvert_exporter": "python",
   "pygments_lexer": "ipython3",
   "version": "3.8.12"
  }
 },
 "nbformat": 4,
 "nbformat_minor": 5
}
