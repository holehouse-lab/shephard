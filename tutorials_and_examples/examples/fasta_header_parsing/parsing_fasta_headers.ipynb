{
 "cells": [
  {
   "cell_type": "markdown",
   "id": "c8f80201",
   "metadata": {},
   "source": [
    "# Example: parsing FASTA records into custom unique IDs\n",
    "*Last updated 2022-06-07*\n",
    "\n",
    "This short notebook walks through how one could parse a FASTA file where you want to extract unique IDs from the FASTA header."
   ]
  },
  {
   "cell_type": "code",
   "execution_count": 11,
   "id": "935c00ff",
   "metadata": {},
   "outputs": [],
   "source": [
    "from shephard.apis import fasta"
   ]
  },
  {
   "cell_type": "markdown",
   "id": "510fcc97",
   "metadata": {},
   "source": [
    "### Define custom function for parsing FASTA header\n",
    "The custom FASTA header function must take in the FASTA header as a string and return a new string which will be used as the unique ID. Note that if this leads to non-unique unique IDs the function will raise a `ProteomeException`"
   ]
  },
  {
   "cell_type": "code",
   "execution_count": 12,
   "id": "347f16da",
   "metadata": {},
   "outputs": [],
   "source": [
    "def parse_header(header_string):\n",
    "    \"\"\"\n",
    "    This custom header parser returns the \n",
    "    uniprot ID followed by the organism taxon ID, with\n",
    "    an underscore connecting the two.\n",
    "    \n",
    "    Parameters\n",
    "    -------------\n",
    "    header_string : str\n",
    "        Will be the input string for any given FAST record\n",
    "        \n",
    "    Returns\n",
    "    --------------\n",
    "    str\n",
    "        Returns a record in the format <uniprotID>_<taxonID>\n",
    "    \n",
    "    \"\"\"\n",
    "    \n",
    "    # gets uniprot ID e.g. from \">sp|P12532|KCRU_HUMAN...\" extracts P12532\n",
    "    uid = header_string.split('|')[1]\n",
    "    \n",
    "    # gets organism taxonID e.g. from .... \"OS=Homo sapiens OX=9606 GN=CKMT1A\" extracts 9606\n",
    "    taxon_ID = header_string.split('OX=')[1].split()[0]\n",
    "    \n",
    "    return f\"{uid}_{taxon_ID}\"\n",
    "    \n",
    "\n",
    "    "
   ]
  },
  {
   "cell_type": "code",
   "execution_count": 13,
   "id": "28d6631c",
   "metadata": {},
   "outputs": [],
   "source": [
    "def bad_parse_header(header_string):\n",
    "    \"\"\"\n",
    "    Example of a parser that will fail because the\n",
    "    returned string will not be unique!\n",
    "    \"\"\"\n",
    "    \n",
    "    return 'non_unique_uid'\n",
    "\n",
    "    "
   ]
  },
  {
   "cell_type": "code",
   "execution_count": 15,
   "id": "6c56a8c7",
   "metadata": {},
   "outputs": [],
   "source": [
    "# this should run without issue...\n",
    "test_proteome = fasta.fasta_to_proteome('seqs.fasta', build_unique_ID=parse_header)"
   ]
  },
  {
   "cell_type": "code",
   "execution_count": 16,
   "id": "40b6d372",
   "metadata": {},
   "outputs": [
    {
     "name": "stdout",
     "output_type": "stream",
     "text": [
      "P41956_6239\n",
      "P12532_9606\n",
      "P25809_10116\n",
      "Q924S5_10116\n",
      "O54937_10116\n",
      "Q9P0J1_9606\n",
      "O88483_10116\n",
      "Q12511_559292\n",
      "P25646_559292\n",
      "Q9VL76_7227\n"
     ]
    }
   ],
   "source": [
    "# and we can verify it worked by printing the unique IDs for our proteins\n",
    "for protein in test_proteome:\n",
    "    print(protein.unique_ID)"
   ]
  },
  {
   "cell_type": "code",
   "execution_count": 19,
   "id": "a421192c",
   "metadata": {},
   "outputs": [
    {
     "name": "stdout",
     "output_type": "stream",
     "text": [
      "This failed with the following exception:\n",
      "\n",
      "Non-unique unique_ID passed [non_unique_uid]\n"
     ]
    }
   ],
   "source": [
    "# this should raise an exception, which in the code-block below is caught in the try/except loop\n",
    "# and the error message will be printed \n",
    "\n",
    "try:\n",
    "    test_proteome = fasta.fasta_to_proteome('seqs.fasta', build_unique_ID=bad_parse_header)\n",
    "except Exception as e:\n",
    "    print('This failed with the following exception:\\n')\n",
    "    print(e)\n"
   ]
  }
 ],
 "metadata": {
  "kernelspec": {
   "display_name": "Python 3 (ipykernel)",
   "language": "python",
   "name": "python3"
  },
  "language_info": {
   "codemirror_mode": {
    "name": "ipython",
    "version": 3
   },
   "file_extension": ".py",
   "mimetype": "text/x-python",
   "name": "python",
   "nbconvert_exporter": "python",
   "pygments_lexer": "ipython3",
   "version": "3.8.12"
  }
 },
 "nbformat": 4,
 "nbformat_minor": 5
}
