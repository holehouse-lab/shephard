{
 "cells": [
  {
   "cell_type": "markdown",
   "id": "c8f80201",
   "metadata": {},
   "source": [
    "# Example: Import and export domains\n",
    "*Last updated 2022-06-07*\n",
    "\n",
    "This short notebook walks through how one could import and export domain annotations. To read more about reading/writing domains see the [shephard file specification docs.](https://shephard.readthedocs.io/en/latest/shephard_file_types.html) or [shephard interfaces docs.](https://shephard.readthedocs.io/en/latest/interfaces.html#si-domains) ."
   ]
  },
  {
   "cell_type": "code",
   "execution_count": 8,
   "id": "935c00ff",
   "metadata": {},
   "outputs": [],
   "source": [
    "from shephard.apis import uniprot\n",
    "from shephard import interfaces\n",
    "\n"
   ]
  },
  {
   "cell_type": "code",
   "execution_count": 29,
   "id": "6c56a8c7",
   "metadata": {},
   "outputs": [],
   "source": [
    "# because the FASTA file here was obtaine from uniprot we can use the uniprot API\n",
    "test_proteome = uniprot.uniprot_fasta_to_proteome('seqs.fasta')"
   ]
  },
  {
   "cell_type": "code",
   "execution_count": 30,
   "id": "fe1d9b2a",
   "metadata": {},
   "outputs": [
    {
     "name": "stdout",
     "output_type": "stream",
     "text": [
      "Reading domains from file\n"
     ]
    }
   ],
   "source": [
    "\n",
    "# if create_domain is set to False then we read from file, else\n",
    "# a new domain is added and written to disk\n",
    "create_domain = False\n",
    "\n",
    "id_of_interest = 'P41956'\n",
    "\n",
    "if create_domain:\n",
    "    \n",
    "    print('Writing domain to file')\n",
    "\n",
    "    # Here were just defining some custom test information that we're going to use\n",
    "    \n",
    "\n",
    "    start = 1\n",
    "    end = 30\n",
    "    domain_type = 'test_domain'\n",
    "\n",
    "\n",
    "    protein_obj = test_proteome.protein(id_of_interest)\n",
    "\n",
    "    # add a domain with attributes\n",
    "    protein_obj.add_domain(start,end, domain_type, attributes={'domain_color':'brown','domain_score':20})\n",
    "    \n",
    "    # write domains to file\n",
    "    interfaces.si_domains.write_domains(test_proteome,'domains_out.tsv')\n",
    "else:\n",
    "    \n",
    "    print('Reading domains from file')\n",
    "    interfaces.si_domains.add_domains_from_file(test_proteome,'domains_out.tsv')\n",
    "    "
   ]
  },
  {
   "cell_type": "code",
   "execution_count": 31,
   "id": "ed03dcc6",
   "metadata": {},
   "outputs": [
    {
     "name": "stdout",
     "output_type": "stream",
     "text": [
      "[|Domain: test_domain (1-30, len=30) in protein P41956]\n"
     ]
    }
   ],
   "source": [
    "print(test_proteome.protein(id_of_interest).domains)"
   ]
  }
 ],
 "metadata": {
  "kernelspec": {
   "display_name": "Python 3 (ipykernel)",
   "language": "python",
   "name": "python3"
  },
  "language_info": {
   "codemirror_mode": {
    "name": "ipython",
    "version": 3
   },
   "file_extension": ".py",
   "mimetype": "text/x-python",
   "name": "python",
   "nbconvert_exporter": "python",
   "pygments_lexer": "ipython3",
   "version": "3.8.12"
  }
 },
 "nbformat": 4,
 "nbformat_minor": 5
}
