{
 "cells": [
  {
   "cell_type": "markdown",
   "id": "511e671f",
   "metadata": {},
   "source": [
    "## Annotating Uniprot proteome with gene name"
   ]
  },
  {
   "cell_type": "code",
   "execution_count": null,
   "id": "d7242980",
   "metadata": {},
   "outputs": [],
   "source": [
    "from shephard import interfaces, apis\n"
   ]
  },
  {
   "cell_type": "code",
   "execution_count": null,
   "id": "19cae2cc",
   "metadata": {},
   "outputs": [],
   "source": [
    "HP=apis.uniprot.uniprot_fasta_to_proteome('human_proteome_clean.fasta')"
   ]
  },
  {
   "cell_type": "code",
   "execution_count": null,
   "id": "004575d2",
   "metadata": {},
   "outputs": [],
   "source": [
    "for p in HP:\n",
    "    gn = -1\n",
    "    try:\n",
    "        first = p.name.split('GN=')[1]\n",
    "        gn = first.split()[0].strip()\n",
    "    except Exception:\n",
    "        print(\"no gene name\")\n",
    "        \n",
    "    if gn != -1:\n",
    "        p.add_attribute('gene_name', gn)\n",
    "        \n",
    "    "
   ]
  },
  {
   "cell_type": "code",
   "execution_count": null,
   "id": "a3abebdd",
   "metadata": {},
   "outputs": [],
   "source": [
    "interfaces.si_protein_attributes.write_protein_attributes(HP,'shprd_protats_gene_names.tsv')"
   ]
  }
 ],
 "metadata": {
  "kernelspec": {
   "display_name": "Python 3 (ipykernel)",
   "language": "python",
   "name": "python3"
  },
  "language_info": {
   "codemirror_mode": {
    "name": "ipython",
    "version": 3
   },
   "file_extension": ".py",
   "mimetype": "text/x-python",
   "name": "python",
   "nbconvert_exporter": "python",
   "pygments_lexer": "ipython3",
   "version": "3.8.12"
  }
 },
 "nbformat": 4,
 "nbformat_minor": 5
}
